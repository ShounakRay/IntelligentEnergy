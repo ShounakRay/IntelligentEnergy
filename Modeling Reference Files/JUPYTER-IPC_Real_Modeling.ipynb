{
 "cells": [
  {
   "cell_type": "code",
   "execution_count": null,
   "id": "secret-metro",
   "metadata": {},
   "outputs": [],
   "source": [
    "# %run IPC_Real_Modeling.py"
   ]
  },
  {
   "cell_type": "code",
   "execution_count": null,
   "id": "departmental-commonwealth",
   "metadata": {},
   "outputs": [],
   "source": [
    "# report = pandas_profiling.ProfileReport(FINALE, explorative=True, progress_bar=True)"
   ]
  },
  {
   "cell_type": "code",
   "execution_count": null,
   "id": "filled-arnold",
   "metadata": {
    "scrolled": false
   },
   "outputs": [],
   "source": [
    "%run IPC_Real_Modeling.py"
   ]
  },
  {
   "cell_type": "code",
   "execution_count": null,
   "id": "peaceful-ferry",
   "metadata": {},
   "outputs": [],
   "source": [
    "import pandas_profiling"
   ]
  },
  {
   "cell_type": "code",
   "execution_count": null,
   "id": "confirmed-cartridge",
   "metadata": {},
   "outputs": [],
   "source": [
    "report_FIBER_DATA = pandas_profiling.ProfileReport(FIBER_DATA, explorative=True, progress_bar=True)"
   ]
  },
  {
   "cell_type": "code",
   "execution_count": null,
   "id": "fixed-personal",
   "metadata": {},
   "outputs": [],
   "source": [
    "report_DATA_INJECTION_STEAM = pandas_profiling.ProfileReport(DATA_INJECTION_STEAM, explorative=True, progress_bar=True)"
   ]
  },
  {
   "cell_type": "code",
   "execution_count": null,
   "id": "knowing-rehabilitation",
   "metadata": {},
   "outputs": [],
   "source": [
    "report_DATA_INJECTION_PRESS = pandas_profiling.ProfileReport(DATA_INJECTION_PRESS, explorative=True, progress_bar=True)"
   ]
  },
  {
   "cell_type": "code",
   "execution_count": null,
   "id": "british-corrections",
   "metadata": {},
   "outputs": [],
   "source": [
    "report_DATA_PRODUCTION = pandas_profiling.ProfileReport(DATA_PRODUCTION, explorative=True, progress_bar=True)"
   ]
  },
  {
   "cell_type": "code",
   "execution_count": null,
   "id": "subject-setup",
   "metadata": {},
   "outputs": [],
   "source": [
    "report_DATA_TEST = pandas_profiling.ProfileReport(DATA_TEST, explorative=True, progress_bar=True)"
   ]
  },
  {
   "cell_type": "code",
   "execution_count": null,
   "id": "timely-administration",
   "metadata": {
    "scrolled": true
   },
   "outputs": [],
   "source": [
    "report_FIBER_DATA.to_file('report_FIBER_DATA.html')"
   ]
  },
  {
   "cell_type": "code",
   "execution_count": null,
   "id": "cosmetic-clinton",
   "metadata": {},
   "outputs": [],
   "source": [
    "report_DATA_INJECTION_STEAM.to_file('report_DATA_INJECTION_STEAM.html')"
   ]
  },
  {
   "cell_type": "code",
   "execution_count": null,
   "id": "indie-louis",
   "metadata": {},
   "outputs": [],
   "source": [
    "report_DATA_INJECTION_PRESS.to_file('report_DATA_INJECTION_PRESS.html')"
   ]
  },
  {
   "cell_type": "code",
   "execution_count": null,
   "id": "enclosed-injury",
   "metadata": {},
   "outputs": [],
   "source": [
    "report_DATA_PRODUCTION.to_file('report_DATA_PRODUCTION.html')"
   ]
  },
  {
   "cell_type": "code",
   "execution_count": null,
   "id": "through-paste",
   "metadata": {},
   "outputs": [],
   "source": [
    "report_DATA_TEST.to_file('report_DATA_TEST.html')"
   ]
  },
  {
   "cell_type": "code",
   "execution_count": null,
   "id": "solar-symposium",
   "metadata": {},
   "outputs": [],
   "source": [
    "report_PRODUCTION_WELL_INTER = pandas_profiling.ProfileReport(PRODUCTION_WELL_INTER, explorative=True, progress_bar=True)"
   ]
  },
  {
   "cell_type": "code",
   "execution_count": null,
   "id": "expanded-harrison",
   "metadata": {},
   "outputs": [],
   "source": [
    "report_PRODUCTION_WELL_WSENSOR = pandas_profiling.ProfileReport(PRODUCTION_WELL_WSENSOR, explorative=True, progress_bar=True)"
   ]
  },
  {
   "cell_type": "code",
   "execution_count": null,
   "id": "compressed-speed",
   "metadata": {},
   "outputs": [],
   "source": [
    "report_FINALE = pandas_profiling.ProfileReport(FINALE, explorative=True, progress_bar=True)"
   ]
  },
  {
   "cell_type": "code",
   "execution_count": null,
   "id": "particular-coupon",
   "metadata": {},
   "outputs": [],
   "source": [
    "report_PRODUCTION_WELL_INTER.to_file('report_PRODUCTION_WELL_INTER.html')"
   ]
  },
  {
   "cell_type": "code",
   "execution_count": null,
   "id": "institutional-italic",
   "metadata": {},
   "outputs": [],
   "source": [
    "report_PRODUCTION_WELL_WSENSOR.to_file('report_PRODUCTION_WELL_WSENSOR.html')"
   ]
  },
  {
   "cell_type": "code",
   "execution_count": null,
   "id": "furnished-moore",
   "metadata": {
    "scrolled": false
   },
   "outputs": [],
   "source": [
    "report_FINALE.to_file('report_FINALE.html')"
   ]
  },
  {
   "cell_type": "code",
   "execution_count": null,
   "id": "exciting-builder",
   "metadata": {},
   "outputs": [],
   "source": [
    "FINALE"
   ]
  }
 ],
 "metadata": {
  "kernelspec": {
   "display_name": "Python 3",
   "language": "python",
   "name": "python3"
  },
  "language_info": {
   "codemirror_mode": {
    "name": "ipython",
    "version": 3
   },
   "file_extension": ".py",
   "mimetype": "text/x-python",
   "name": "python",
   "nbconvert_exporter": "python",
   "pygments_lexer": "ipython3",
   "version": "3.8.6"
  }
 },
 "nbformat": 4,
 "nbformat_minor": 5
}
