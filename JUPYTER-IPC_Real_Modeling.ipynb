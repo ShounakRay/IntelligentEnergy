{
 "cells": [
  {
   "cell_type": "code",
   "execution_count": 7,
   "id": "secret-metro",
   "metadata": {},
   "outputs": [],
   "source": [
    "# %run IPC_Real_Modeling.py"
   ]
  },
  {
   "cell_type": "code",
   "execution_count": 9,
   "id": "departmental-commonwealth",
   "metadata": {},
   "outputs": [],
   "source": [
    "# report = pandas_profiling.ProfileReport(FINALE, explorative=True, progress_bar=True)"
   ]
  },
  {
   "cell_type": "code",
   "execution_count": 11,
   "id": "filled-arnold",
   "metadata": {
    "scrolled": false
   },
   "outputs": [
    {
     "name": "stdout",
     "output_type": "stream",
     "text": [
      "Error manipulating AP2THERM: 'Date/Time :'\n",
      "Unable to read: AP43DTS.csv, Error tokenizing data. C error: Expected 257 fields in line 1715, saw 996\n",
      "\n",
      "Unable to read: BP21DTS.csv, Error tokenizing data. C error: Expected 257 fields in line 1588, saw 513\n",
      "\n",
      "Unable to read: BP57DTS.csv, Error tokenizing data. C error: Expected 200 fields in line 1026, saw 1817\n",
      "\n",
      "Unable to read: AP82DTS.csv, Error tokenizing data. C error: Expected 257 fields in line 1004, saw 769\n",
      "\n"
     ]
    }
   ],
   "source": [
    "%run IPC_Real_Modeling.py"
   ]
  },
  {
   "cell_type": "code",
   "execution_count": 13,
   "id": "peaceful-ferry",
   "metadata": {},
   "outputs": [],
   "source": [
    "import pandas_profiling"
   ]
  },
  {
   "cell_type": "code",
   "execution_count": 14,
   "id": "confirmed-cartridge",
   "metadata": {},
   "outputs": [],
   "source": [
    "report_FIBER_DATA = pandas_profiling.ProfileReport(FIBER_DATA, explorative=True, progress_bar=True)"
   ]
  },
  {
   "cell_type": "code",
   "execution_count": 15,
   "id": "fixed-personal",
   "metadata": {},
   "outputs": [],
   "source": [
    "report_DATA_INJECTION_STEAM = pandas_profiling.ProfileReport(DATA_INJECTION_STEAM, explorative=True, progress_bar=True)"
   ]
  },
  {
   "cell_type": "code",
   "execution_count": 16,
   "id": "knowing-rehabilitation",
   "metadata": {},
   "outputs": [],
   "source": [
    "report_DATA_INJECTION_PRESS = pandas_profiling.ProfileReport(DATA_INJECTION_PRESS, explorative=True, progress_bar=True)"
   ]
  },
  {
   "cell_type": "code",
   "execution_count": 17,
   "id": "british-corrections",
   "metadata": {},
   "outputs": [],
   "source": [
    "report_DATA_PRODUCTION = pandas_profiling.ProfileReport(DATA_PRODUCTION, explorative=True, progress_bar=True)"
   ]
  },
  {
   "cell_type": "code",
   "execution_count": 18,
   "id": "subject-setup",
   "metadata": {},
   "outputs": [],
   "source": [
    "report_DATA_TEST = pandas_profiling.ProfileReport(DATA_TEST, explorative=True, progress_bar=True)"
   ]
  },
  {
   "cell_type": "code",
   "execution_count": 22,
   "id": "timely-administration",
   "metadata": {
    "scrolled": true
   },
   "outputs": [
    {
     "data": {
      "application/vnd.jupyter.widget-view+json": {
       "model_id": "5684e97460174a239791f2d97f595e09",
       "version_major": 2,
       "version_minor": 0
      },
      "text/plain": [
       "Summarize dataset:   0%|          | 0/20 [00:00<?, ?it/s]"
      ]
     },
     "metadata": {},
     "output_type": "display_data"
    },
    {
     "data": {
      "application/vnd.jupyter.widget-view+json": {
       "model_id": "58a2d50c93b74332994cd4b7fd30cc95",
       "version_major": 2,
       "version_minor": 0
      },
      "text/plain": [
       "Generate report structure:   0%|          | 0/1 [00:00<?, ?it/s]"
      ]
     },
     "metadata": {},
     "output_type": "display_data"
    },
    {
     "data": {
      "application/vnd.jupyter.widget-view+json": {
       "model_id": "e229535395d345b8a0a4816a577211db",
       "version_major": 2,
       "version_minor": 0
      },
      "text/plain": [
       "Render HTML:   0%|          | 0/1 [00:00<?, ?it/s]"
      ]
     },
     "metadata": {},
     "output_type": "display_data"
    },
    {
     "data": {
      "application/vnd.jupyter.widget-view+json": {
       "model_id": "66134c14b11a444685862043d06fdb44",
       "version_major": 2,
       "version_minor": 0
      },
      "text/plain": [
       "Export report to file:   0%|          | 0/1 [00:00<?, ?it/s]"
      ]
     },
     "metadata": {},
     "output_type": "display_data"
    }
   ],
   "source": [
    "report_FIBER_DATA.to_file('report_FIBER_DATA.html')"
   ]
  },
  {
   "cell_type": "code",
   "execution_count": 23,
   "id": "cosmetic-clinton",
   "metadata": {},
   "outputs": [
    {
     "data": {
      "application/vnd.jupyter.widget-view+json": {
       "model_id": "b06ef2621b5446af9fac8196644a66d9",
       "version_major": 2,
       "version_minor": 0
      },
      "text/plain": [
       "Summarize dataset:   0%|          | 0/94 [00:00<?, ?it/s]"
      ]
     },
     "metadata": {},
     "output_type": "display_data"
    },
    {
     "data": {
      "application/vnd.jupyter.widget-view+json": {
       "model_id": "4d7711c0acba4f5e9b096929c0d375ba",
       "version_major": 2,
       "version_minor": 0
      },
      "text/plain": [
       "Generate report structure:   0%|          | 0/1 [00:00<?, ?it/s]"
      ]
     },
     "metadata": {},
     "output_type": "display_data"
    },
    {
     "data": {
      "application/vnd.jupyter.widget-view+json": {
       "model_id": "9d4150c281a643c6a898ccfd83f55c51",
       "version_major": 2,
       "version_minor": 0
      },
      "text/plain": [
       "Render HTML:   0%|          | 0/1 [00:00<?, ?it/s]"
      ]
     },
     "metadata": {},
     "output_type": "display_data"
    },
    {
     "data": {
      "application/vnd.jupyter.widget-view+json": {
       "model_id": "eaeb026fb33c49159c596515af52fe58",
       "version_major": 2,
       "version_minor": 0
      },
      "text/plain": [
       "Export report to file:   0%|          | 0/1 [00:00<?, ?it/s]"
      ]
     },
     "metadata": {},
     "output_type": "display_data"
    }
   ],
   "source": [
    "report_DATA_INJECTION_STEAM.to_file('report_DATA_INJECTION_STEAM.html')"
   ]
  },
  {
   "cell_type": "code",
   "execution_count": 24,
   "id": "indie-louis",
   "metadata": {},
   "outputs": [
    {
     "data": {
      "application/vnd.jupyter.widget-view+json": {
       "model_id": "f23d1a57c8f9412c84bb4f5484bc60cf",
       "version_major": 2,
       "version_minor": 0
      },
      "text/plain": [
       "Summarize dataset:   0%|          | 0/94 [00:00<?, ?it/s]"
      ]
     },
     "metadata": {},
     "output_type": "display_data"
    },
    {
     "data": {
      "application/vnd.jupyter.widget-view+json": {
       "model_id": "5d535012c26e40b1a506b73a9471c43d",
       "version_major": 2,
       "version_minor": 0
      },
      "text/plain": [
       "Generate report structure:   0%|          | 0/1 [00:00<?, ?it/s]"
      ]
     },
     "metadata": {},
     "output_type": "display_data"
    },
    {
     "data": {
      "application/vnd.jupyter.widget-view+json": {
       "model_id": "f76e69e7e23641aab707fe7f22359e6c",
       "version_major": 2,
       "version_minor": 0
      },
      "text/plain": [
       "Render HTML:   0%|          | 0/1 [00:00<?, ?it/s]"
      ]
     },
     "metadata": {},
     "output_type": "display_data"
    },
    {
     "data": {
      "application/vnd.jupyter.widget-view+json": {
       "model_id": "da924469c4fb43bf88e458541764a99f",
       "version_major": 2,
       "version_minor": 0
      },
      "text/plain": [
       "Export report to file:   0%|          | 0/1 [00:00<?, ?it/s]"
      ]
     },
     "metadata": {},
     "output_type": "display_data"
    }
   ],
   "source": [
    "report_DATA_INJECTION_PRESS.to_file('report_DATA_INJECTION_PRESS.html')"
   ]
  },
  {
   "cell_type": "code",
   "execution_count": 25,
   "id": "enclosed-injury",
   "metadata": {},
   "outputs": [
    {
     "data": {
      "application/vnd.jupyter.widget-view+json": {
       "model_id": "41724819d45c45b7ba395aaae6f4f3c5",
       "version_major": 2,
       "version_minor": 0
      },
      "text/plain": [
       "Summarize dataset:   0%|          | 0/25 [00:00<?, ?it/s]"
      ]
     },
     "metadata": {},
     "output_type": "display_data"
    },
    {
     "data": {
      "application/vnd.jupyter.widget-view+json": {
       "model_id": "4bef5ed8cf714bf09a53e7ce882b8a8d",
       "version_major": 2,
       "version_minor": 0
      },
      "text/plain": [
       "Generate report structure:   0%|          | 0/1 [00:00<?, ?it/s]"
      ]
     },
     "metadata": {},
     "output_type": "display_data"
    },
    {
     "data": {
      "application/vnd.jupyter.widget-view+json": {
       "model_id": "ce4bf6a52c014601b24e6a662ead32ea",
       "version_major": 2,
       "version_minor": 0
      },
      "text/plain": [
       "Render HTML:   0%|          | 0/1 [00:00<?, ?it/s]"
      ]
     },
     "metadata": {},
     "output_type": "display_data"
    },
    {
     "data": {
      "application/vnd.jupyter.widget-view+json": {
       "model_id": "069ff3425acb462f94ea84976ba64247",
       "version_major": 2,
       "version_minor": 0
      },
      "text/plain": [
       "Export report to file:   0%|          | 0/1 [00:00<?, ?it/s]"
      ]
     },
     "metadata": {},
     "output_type": "display_data"
    }
   ],
   "source": [
    "report_DATA_PRODUCTION.to_file('report_DATA_PRODUCTION.html')"
   ]
  },
  {
   "cell_type": "code",
   "execution_count": 26,
   "id": "through-paste",
   "metadata": {},
   "outputs": [
    {
     "data": {
      "application/vnd.jupyter.widget-view+json": {
       "model_id": "837c2ef7663540f78a1875c571198ba5",
       "version_major": 2,
       "version_minor": 0
      },
      "text/plain": [
       "Summarize dataset:   0%|          | 0/23 [00:00<?, ?it/s]"
      ]
     },
     "metadata": {},
     "output_type": "display_data"
    },
    {
     "data": {
      "application/vnd.jupyter.widget-view+json": {
       "model_id": "f696afea51be4961b3f455d61c273f6d",
       "version_major": 2,
       "version_minor": 0
      },
      "text/plain": [
       "Generate report structure:   0%|          | 0/1 [00:00<?, ?it/s]"
      ]
     },
     "metadata": {},
     "output_type": "display_data"
    },
    {
     "data": {
      "application/vnd.jupyter.widget-view+json": {
       "model_id": "4d9aadeae445461fa9b6361f586caf33",
       "version_major": 2,
       "version_minor": 0
      },
      "text/plain": [
       "Render HTML:   0%|          | 0/1 [00:00<?, ?it/s]"
      ]
     },
     "metadata": {},
     "output_type": "display_data"
    },
    {
     "data": {
      "application/vnd.jupyter.widget-view+json": {
       "model_id": "1276a90db5ec41ef9535aff3bda27a3b",
       "version_major": 2,
       "version_minor": 0
      },
      "text/plain": [
       "Export report to file:   0%|          | 0/1 [00:00<?, ?it/s]"
      ]
     },
     "metadata": {},
     "output_type": "display_data"
    }
   ],
   "source": [
    "report_DATA_TEST.to_file('report_DATA_TEST.html')"
   ]
  },
  {
   "cell_type": "code",
   "execution_count": 30,
   "id": "solar-symposium",
   "metadata": {},
   "outputs": [],
   "source": [
    "report_PRODUCTION_WELL_INTER = pandas_profiling.ProfileReport(PRODUCTION_WELL_INTER, explorative=True, progress_bar=True)"
   ]
  },
  {
   "cell_type": "code",
   "execution_count": 31,
   "id": "expanded-harrison",
   "metadata": {},
   "outputs": [],
   "source": [
    "report_PRODUCTION_WELL_WSENSOR = pandas_profiling.ProfileReport(PRODUCTION_WELL_WSENSOR, explorative=True, progress_bar=True)"
   ]
  },
  {
   "cell_type": "code",
   "execution_count": 32,
   "id": "compressed-speed",
   "metadata": {},
   "outputs": [],
   "source": [
    "report_FINALE = pandas_profiling.ProfileReport(FINALE, explorative=True, progress_bar=True)"
   ]
  },
  {
   "cell_type": "code",
   "execution_count": 27,
   "id": "particular-coupon",
   "metadata": {},
   "outputs": [
    {
     "data": {
      "application/vnd.jupyter.widget-view+json": {
       "model_id": "7f71298ba283480b8493f958ee56df63",
       "version_major": 2,
       "version_minor": 0
      },
      "text/plain": [
       "Summarize dataset:   0%|          | 0/33 [00:00<?, ?it/s]"
      ]
     },
     "metadata": {},
     "output_type": "display_data"
    },
    {
     "data": {
      "application/vnd.jupyter.widget-view+json": {
       "model_id": "ab7d7dd559134ae5a4ad9783bda6b23e",
       "version_major": 2,
       "version_minor": 0
      },
      "text/plain": [
       "Generate report structure:   0%|          | 0/1 [00:00<?, ?it/s]"
      ]
     },
     "metadata": {},
     "output_type": "display_data"
    },
    {
     "data": {
      "application/vnd.jupyter.widget-view+json": {
       "model_id": "34f07aaf7a1840c2a9903316088f81cc",
       "version_major": 2,
       "version_minor": 0
      },
      "text/plain": [
       "Render HTML:   0%|          | 0/1 [00:00<?, ?it/s]"
      ]
     },
     "metadata": {},
     "output_type": "display_data"
    },
    {
     "data": {
      "application/vnd.jupyter.widget-view+json": {
       "model_id": "b203a993292843a58bf6b6e205af70c8",
       "version_major": 2,
       "version_minor": 0
      },
      "text/plain": [
       "Export report to file:   0%|          | 0/1 [00:00<?, ?it/s]"
      ]
     },
     "metadata": {},
     "output_type": "display_data"
    }
   ],
   "source": [
    "report_PRODUCTION_WELL_INTER.to_file('report_PRODUCTION_WELL_INTER.html')"
   ]
  },
  {
   "cell_type": "code",
   "execution_count": 28,
   "id": "institutional-italic",
   "metadata": {},
   "outputs": [
    {
     "data": {
      "application/vnd.jupyter.widget-view+json": {
       "model_id": "f691bf7c60ee4acb8f0691f850ac11dd",
       "version_major": 2,
       "version_minor": 0
      },
      "text/plain": [
       "Summarize dataset:   0%|          | 0/38 [00:00<?, ?it/s]"
      ]
     },
     "metadata": {},
     "output_type": "display_data"
    },
    {
     "data": {
      "application/vnd.jupyter.widget-view+json": {
       "model_id": "d98b4a9402c7452b8ed0345e7d8b37ff",
       "version_major": 2,
       "version_minor": 0
      },
      "text/plain": [
       "Generate report structure:   0%|          | 0/1 [00:00<?, ?it/s]"
      ]
     },
     "metadata": {},
     "output_type": "display_data"
    },
    {
     "data": {
      "application/vnd.jupyter.widget-view+json": {
       "model_id": "191878552d044482b5a3e03cacf2d3b8",
       "version_major": 2,
       "version_minor": 0
      },
      "text/plain": [
       "Render HTML:   0%|          | 0/1 [00:00<?, ?it/s]"
      ]
     },
     "metadata": {},
     "output_type": "display_data"
    },
    {
     "data": {
      "application/vnd.jupyter.widget-view+json": {
       "model_id": "138af8a9003e43a5b861041925e14d9f",
       "version_major": 2,
       "version_minor": 0
      },
      "text/plain": [
       "Export report to file:   0%|          | 0/1 [00:00<?, ?it/s]"
      ]
     },
     "metadata": {},
     "output_type": "display_data"
    }
   ],
   "source": [
    "report_PRODUCTION_WELL_WSENSOR.to_file('report_PRODUCTION_WELL_WSENSOR.html')"
   ]
  },
  {
   "cell_type": "code",
   "execution_count": 29,
   "id": "furnished-moore",
   "metadata": {},
   "outputs": [
    {
     "data": {
      "application/vnd.jupyter.widget-view+json": {
       "model_id": "283898d294a64e30bd31b05f5ff6f5e0",
       "version_major": 2,
       "version_minor": 0
      },
      "text/plain": [
       "Summarize dataset:   0%|          | 0/118 [00:00<?, ?it/s]"
      ]
     },
     "metadata": {},
     "output_type": "display_data"
    },
    {
     "data": {
      "application/vnd.jupyter.widget-view+json": {
       "model_id": "d9134c9d12df40babe712b4f344d955d",
       "version_major": 2,
       "version_minor": 0
      },
      "text/plain": [
       "Generate report structure:   0%|          | 0/1 [00:00<?, ?it/s]"
      ]
     },
     "metadata": {},
     "output_type": "display_data"
    },
    {
     "data": {
      "application/vnd.jupyter.widget-view+json": {
       "model_id": "ca3be007a37c4b1f91c924d188f8685b",
       "version_major": 2,
       "version_minor": 0
      },
      "text/plain": [
       "Render HTML:   0%|          | 0/1 [00:00<?, ?it/s]"
      ]
     },
     "metadata": {},
     "output_type": "display_data"
    },
    {
     "data": {
      "application/vnd.jupyter.widget-view+json": {
       "model_id": "30487c59baa249d3bc22d4578f510808",
       "version_major": 2,
       "version_minor": 0
      },
      "text/plain": [
       "Export report to file:   0%|          | 0/1 [00:00<?, ?it/s]"
      ]
     },
     "metadata": {},
     "output_type": "display_data"
    }
   ],
   "source": [
    "report_FINALE.to_file('report_FINALE.html')"
   ]
  },
  {
   "cell_type": "code",
   "execution_count": null,
   "id": "exciting-builder",
   "metadata": {},
   "outputs": [],
   "source": []
  }
 ],
 "metadata": {
  "kernelspec": {
   "display_name": "Python 3",
   "language": "python",
   "name": "python3"
  },
  "language_info": {
   "codemirror_mode": {
    "name": "ipython",
    "version": 3
   },
   "file_extension": ".py",
   "mimetype": "text/x-python",
   "name": "python",
   "nbconvert_exporter": "python",
   "pygments_lexer": "ipython3",
   "version": "3.7.8"
  }
 },
 "nbformat": 4,
 "nbformat_minor": 5
}
